{
  "nbformat": 4,
  "nbformat_minor": 0,
  "metadata": {
    "colab": {
      "provenance": [],
      "toc_visible": true,
      "include_colab_link": true
    },
    "kernelspec": {
      "name": "python3",
      "display_name": "Python 3"
    },
    "language_info": {
      "name": "python"
    }
  },
  "cells": [
    {
      "cell_type": "markdown",
      "metadata": {
        "id": "view-in-github",
        "colab_type": "text"
      },
      "source": [
        "<a href=\"https://colab.research.google.com/github/fedeadp10/Ethical-Hacking-Python-Network-enumeration/blob/main/1_1_Enunciados_actividad_introduccion_python_silvia_FEDERICO.ipynb\" target=\"_parent\"><img src=\"https://colab.research.google.com/assets/colab-badge.svg\" alt=\"Open In Colab\"/></a>"
      ]
    },
    {
      "cell_type": "markdown",
      "source": [
        "# Introducción a Python &#x1F60E; &#x2728;\n"
      ],
      "metadata": {
        "id": "cNnrWynxnlYy"
      }
    },
    {
      "cell_type": "code",
      "source": [
        "import sys          # Proporciona acceso a funciones y variables específicas del sistema.\n",
        "import keyword      # Permite trabajar con las palabras clave de Python.\n",
        "import operator     # Ofrece acceso a operadores funcionales, como operaciones matemáticas y lógicas.\n",
        "from datetime import datetime  # Importa la clase datetime para trabajar con fechas y horas.\n",
        "import os           # Proporciona una manera de usar funcionalidades dependientes del sistema operativo."
      ],
      "metadata": {
        "id": "-Qwe2geKn9hj"
      },
      "execution_count": null,
      "outputs": []
    },
    {
      "cell_type": "markdown",
      "source": [
        "## Strings"
      ],
      "metadata": {
        "id": "WBeA6RIxt3HX"
      }
    },
    {
      "cell_type": "markdown",
      "source": [
        "### 🎈 Ejercicio print 🎈"
      ],
      "metadata": {
        "id": "a8YQCqBxqDLU"
      }
    },
    {
      "cell_type": "markdown",
      "source": [
        "Declara las siguientes variables:\n",
        "\n",
        "* **nombre:** tu nombre\n",
        "* **edad:** tu edad\n",
        "* **ciudad:** la ciudad donde vives\n",
        "* **hobby:**tu pasatiempo favorito\n",
        "\n",
        "Usa una f-string para imprimir una oración que incluya toda esta información:\n",
        "\n",
        "> Me llamo *Silvia*, tengo *26* años y vivo en *Leganés*. Me encanta *viajar*.\n",
        "\n"
      ],
      "metadata": {
        "id": "blF0MKxUYxW6"
      }
    },
    {
      "cell_type": "code",
      "source": [
        "# Declaración de variables\n",
        "nombre = \"Fede\"\n",
        "edad = 42\n",
        "ciudad = \"Barcelona\"\n",
        "hobby = \"Analizar datos :)\"\n",
        "\n",
        "# Usamos una f-string para imprimir la información\n",
        "print(f\"Me llamo {nombre}, tengo {edad} años y vivo en {ciudad}. Me encanta {hobby}.\")\n"
      ],
      "metadata": {
        "colab": {
          "base_uri": "https://localhost:8080/"
        },
        "id": "xNSTy9G88IZ4",
        "outputId": "b06b9006-68fc-4cc1-8929-d702f6579d82"
      },
      "execution_count": 2,
      "outputs": [
        {
          "output_type": "stream",
          "name": "stdout",
          "text": [
            "Me llamo Fede, tengo 42 años y vivo en Barcelona. Me encanta Analizar datos :).\n"
          ]
        }
      ]
    },
    {
      "cell_type": "markdown",
      "source": [
        "### 🎈 Ejercicio index 🎈"
      ],
      "metadata": {
        "id": "M2EphSzVAkyb"
      }
    },
    {
      "cell_type": "markdown",
      "source": [
        "Escribir un programa que busque una subcadena específica en un texto dado y muestre el índice donde comienza la subcadena.\n",
        "\n",
        "Además, buscar la ocurrencia de una letra dentro de un rango de índices en el mismo texto.\n",
        "\n",
        "1. Crea una cadena de texto con el siguiente contenido:\n",
        "\n",
        "\n",
        "> \"Todos han jugado al paddel pero yo nunca lo he jugado\"\n",
        "\n",
        "2. Busca la palabra \"paddel\" y almacena el índice en \"indice_paddel\" y muestra su resultado\n",
        "\n",
        "3. Busca la letra 'a' dentro del rango [2,11]\n",
        "\n",
        "4. Busca la letra 'e' dentro del rango [2,11] y que NO lance error en caso de no encontrarla\n",
        "\n",
        "\n",
        "\n"
      ],
      "metadata": {
        "id": "RFl0rWA9TU3y"
      }
    },
    {
      "cell_type": "code",
      "source": [
        "# Cadena de texto\n",
        "texto = \"Todos han jugado al paddel pero yo nunca lo he jugado\"\n",
        "\n",
        "# Buscar la subcadena \"paddel\" y almacenar el índice\n",
        "indice_paddel = texto.find(\"paddel\")\n",
        "print(f\"El índice de 'paddel' es: {indice_paddel}\")\n",
        "\n",
        "# Buscar la letra 'a' dentro del rango [2,11]\n",
        "indice_a = texto.find('a', 2, 12)\n",
        "print(f\"El índice de la primera 'a' en el rango [2,11] es: {indice_a}\")\n",
        "\n",
        "# Buscar la letra 'e' dentro del rango [2,11] sin que lance error si no se encuentra\n",
        "indice_e = texto.find('e', 2, 12)\n",
        "if indice_e != -1:\n",
        "    print(f\"El índice de la primera 'e' en el rango [2,11] es: {indice_e}\")\n",
        "else:\n",
        "    print(\"No se encontró la letra 'e' en el rango [2,11]\")"
      ],
      "metadata": {
        "colab": {
          "base_uri": "https://localhost:8080/"
        },
        "id": "JuFddOxg88iF",
        "outputId": "2aaf003f-5b76-4efa-f401-9bbf9d7d6501"
      },
      "execution_count": 3,
      "outputs": [
        {
          "output_type": "stream",
          "name": "stdout",
          "text": [
            "El índice de 'paddel' es: 20\n",
            "El índice de la primera 'a' en el rango [2,11] es: 7\n",
            "No se encontró la letra 'e' en el rango [2,11]\n"
          ]
        }
      ]
    },
    {
      "cell_type": "markdown",
      "source": [
        "### 😈 <font color='red'> DESAFÍO 1<font color='black'> 😈"
      ],
      "metadata": {
        "id": "NCK--WaTqHhV"
      }
    },
    {
      "cell_type": "markdown",
      "metadata": {
        "id": "GnwFS6EdQtdT"
      },
      "source": [
        "\n",
        "\n",
        "1. Crea una nueva cadena llamada 'saludo' que use la variable 'string_simple' (que debe contener el valor Hola) y la concatene con la frase \", cómo estás hoy?\" utilizando el operador +.\n",
        "2. Utiliza f-strings para imprimir la variable 'string_simple' en mayúsculas, seguida de la pregunta \"cómo te encuentras hoy?\".\n",
        "3. Emplea el método .format() para crear una cadena que indique que el precio de una bici es de 1150.4332€, mostrando 3 decimales.\n",
        "4. Con otro .format(), forma una cadena que diga que \"un luchador de sumo pesa 132,89 kg\", especificando solo un decimal en el peso.\n",
        "5. Corrige la frase \"En programación, mi herramienta favorita es Python\"\n",
        "para que diga \"En programación, mi INSTRUMENTO favorito es PYTHON\".\n",
        "\n"
      ]
    },
    {
      "cell_type": "code",
      "source": [
        "# 1. Crear una nueva cadena 'saludo' que\n",
        "# use la variable 'string_simple' y la concatene con la frase \", cómo estás hoy?\" utilizando el operador +\n",
        "string_simple = \"Hola\"\n",
        "saludo = string_simple + \", cómo estás hoy?\"\n",
        "print(saludo)\n",
        "\n",
        "# 2. Utilizar f-strings para imprimir\n",
        "# la variable 'string_simple' en mayúsculas, seguida de la pregunta \"cómo te encuentras hoy?\"\n",
        "print(f\"{string_simple.upper()}, cómo te encuentras hoy?\")\n",
        "\n",
        "# 3. Emplear el método .format() para crear\n",
        "# una cadena que indique que el precio de una bici es de 1150.4332€, mostrando 3 decimales.\n",
        "precio_bici = 1150.4332\n",
        "print(\"El precio de la bici es {:.3f}€\".format(precio_bici))\n",
        "\n",
        "# 4. Con otro .format(), formar una cadena que diga que\n",
        "# \"un luchador de sumo pesa 132,89 kg\", especificando solo un decimal en el peso.\n",
        "peso_sumo = 132.89\n",
        "print(\"Un luchador de sumo pesa {:.1f} kg\".format(peso_sumo))\n",
        "\n",
        "# 5. Corregir la frase\n",
        "# \"En programación, mi herramienta favorita es Python\"\n",
        "# para que diga \"En programación, mi INSTRUMENTO favorito es PYTHON\".\n",
        "frase = \"En programación, mi herramienta favorita es Python\"\n",
        "frase_corregida = frase.replace(\"herramienta\", \"INSTRUMENTO\").replace(\"Python\", \"PYTHON\")\n",
        "print(frase_corregida)"
      ],
      "metadata": {
        "id": "WO8gU8Im5NuA",
        "colab": {
          "base_uri": "https://localhost:8080/"
        },
        "outputId": "73516d4f-3693-4c17-b7bc-a443101c9fcf"
      },
      "execution_count": null,
      "outputs": [
        {
          "output_type": "stream",
          "name": "stdout",
          "text": [
            "Hola, cómo estás hoy?\n",
            "HOLA, cómo te encuentras hoy?\n",
            "El precio de la bici es 1150.433€\n",
            "Un luchador de sumo pesa 132.9 kg\n",
            "En programación, mi INSTRUMENTO favorita es PYTHON\n"
          ]
        }
      ]
    },
    {
      "cell_type": "markdown",
      "source": [
        "## Listas, diccionarios"
      ],
      "metadata": {
        "id": "Ha42Y2wQtrth"
      }
    },
    {
      "cell_type": "markdown",
      "source": [
        "### 🎈 Ejercicio lista - slicing 🎈"
      ],
      "metadata": {
        "id": "WKjeOBzQqMSL"
      }
    },
    {
      "cell_type": "markdown",
      "source": [
        "\n",
        "\n",
        "Crea la lista de famosos que contenga:\n",
        "\n",
        "\n",
        "> \"Tom Hanks\", \"Emma Watson\", \"Morgan Freeman\", \"Scarlett Johansson\", \"Will Smith\"\n",
        "\n",
        "\n",
        "1. Accede a los primeros cuatro elementos de la lista.\n",
        "2. Accede al segundo y tercer elemento de la lista.\n",
        "3. Accede al último elemento de la lista.\n",
        "4. Accede a los elementos desde el segundo hasta el penúltimo.\n",
        "5. Crea una copia de 'lista_famosos' recorriéndola de izquierda a derecha con un paso de 1.\n",
        "6. Obtén elementos de 'lista_famosos' con una zancada de 3, es decir, selecciona cada tercer elemento de la lista.\n",
        "7. Invierte 'lista_famosos', recorriéndola de derecha a izquierda con un paso de -1.\n"
      ],
      "metadata": {
        "id": "_4Qk88wEsMCt"
      }
    },
    {
      "cell_type": "markdown",
      "source": [
        "### 🎈 Ejercicio manipulación listas: Harry Potter 🎈"
      ],
      "metadata": {
        "id": "TyL6g1HeU2FN"
      }
    },
    {
      "cell_type": "markdown",
      "source": [
        "Crea una lista con personajes del mundo de Harry Potter:\n",
        "\n",
        "\n",
        "> \"Harry\", \"Hermione\", \"Ron\", \"Dumbledore\", \"Snape\", \"Voldemort\"\n",
        "\n",
        "Realiza las siguientes operaciones sobre la lista utilizando los métodos de listas de Python:\n",
        "\n",
        "1. Añade el personaje \"Hagrid\" al final de la lista.\n",
        "2. Extiende la lista con los personajes [\"Luna\", \"Neville\"].\n",
        "3. Inserta el personaje \"Ginny\" en la tercera posición de la lista.\n",
        "4. Elimina el personaje \"Snape\" de la lista.\n",
        "5. Elimina y devuelve el primer elemento de la lista.\n",
        "6. Encuentra el índice del personaje \"Voldemort\" en la lista.\n",
        "7. Cuenta cuántas veces aparece el personaje \"Harry\" en la lista.\n",
        "8. Ordena la lista en orden alfabético.\n",
        "9. Invierte el orden de los elementos de la lista.\n",
        "10. Elimina todos los elementos de la lista original."
      ],
      "metadata": {
        "id": "U_hNmYXxU-DV"
      }
    },
    {
      "cell_type": "markdown",
      "source": [
        "### 🎈 Ejercicio manipulación listas: Friends 🎈"
      ],
      "metadata": {
        "id": "lTCvZePBWpn9"
      }
    },
    {
      "cell_type": "markdown",
      "source": [
        "Trabaja con una lista que contiene los nombres de los personajes principales de la serie \"Friends\":\n",
        "\n",
        "> \"Rachel\", \"Monica\", \"Phoebe\", \"Joey\", \"Chandler\", \"Ross\"\n",
        "\n",
        "Realiza las siguientes operaciones sobre la lista utilizando los métodos de listas de Python:\n",
        "\n",
        "1. Añade \"Gunther\" al final de la lista.\n",
        "2. Extiende la lista con los personajes [\"Janice\", \"Mike\"].\n",
        "3. Inserta \"Richard\" en la segunda posición.\n",
        "4. Elimina \"Rachel\" de la lista.\n",
        "5. Elimina y devuelve el último elemento de la lista.\n",
        "6. Encuentra el índice del personaje \"Chandler\".\n",
        "7. Cuenta cuántas veces aparece \"Ross\" en la lista.\n",
        "8. Ordena la lista en orden alfabético.\n",
        "9. Invierte el orden de los elementos de la lista.\n",
        "10. Elimina todos los elementos de la lista original."
      ],
      "metadata": {
        "id": "Bpyr6sTGVULS"
      }
    },
    {
      "cell_type": "markdown",
      "source": [
        "### 🎈 Ejercicio dict libros 🎈"
      ],
      "metadata": {
        "id": "EZPa5G5npy66"
      }
    },
    {
      "cell_type": "markdown",
      "source": [
        "Imagina que eres el encargado de gestionar una biblioteca digital. Necesitas realizar varias operaciones para mantener y actualizar la colección de libros y sus autores utilizando diccionarios en Python.\n",
        "\n",
        "1. Crear un diccionario con títulos de libros y sus autores:\n",
        "\n",
        "\n",
        "> Cien Años de Soledad- Gabriel García Márquez\n",
        "\n",
        "> 1984 - George Orwell\n",
        "\n",
        "> Don Quijote de la Mancha - Miguel de Cervantes\n",
        "\n",
        "2. Añadir un nuevo libro: \"El Hobbit\" con autor \"J.R.R. Tolkien\"\n",
        "\n",
        "3. Actualizar el autor de un libro: El autor de \"1984\" a \"Orwell\"\n",
        "\n",
        "4. Eliminar un libro: \"Don Quijote de la Mancha\"\n",
        "\n",
        "5. Imprimir todos los libros y autores"
      ],
      "metadata": {
        "id": "1Mh8xRBee9TZ"
      }
    },
    {
      "cell_type": "markdown",
      "source": [
        "### 😈 <font color='red'> DESAFÍO 2 <font color='black'> 😈"
      ],
      "metadata": {
        "id": "bVxjjzo8qMSi"
      }
    },
    {
      "cell_type": "markdown",
      "metadata": {
        "id": "si0SZG_OP2EX"
      },
      "source": [
        "Imagina que estás desarrollando un programa que necesita procesar información sobre un grupo de estudiantes y sus calificaciones. Aquí tienes las tareas específicas que debes completar:\n",
        "\n",
        "- Tienes una lista de calificaciones de estudiantes:\n",
        "\n",
        "> calificaciones = [95, 82, 59, 78, 88, 93].\n",
        "\n",
        "- Un estudiante aprueba si su calificación es 60 o más. Crea una nueva lista llamada **aprobados** que contenga True o False dependiendo de si cada estudiante ha aprobado o no, utilizando comprensión de listas.\n",
        "\n",
        "- Calcula la calificación **promedio** de la clase y almacénala en una variable llamada **promedio**. Imprime el resultado con un mensaje que diga \"La calificación promedio de la clase es: {promedio}\".\n",
        "\n",
        "- A partir de la lista original calificaciones, crea una nueva lista llamada **calificaciones_mejoradas** donde has añadido 5 puntos extra a cada estudiante cuya calificación original fue menor a 90. Usa comprensión de listas para esto. Asegúrate de que ninguna calificación exceda de 100.\n",
        "\n",
        "- Finalmente, encuentra e imprime la calificación más alta usando la función **max()** sobre la lista calificaciones_mejoradas.\n",
        "\n"
      ]
    },
    {
      "cell_type": "markdown",
      "source": [
        "Comprensión de Listas:\n",
        "\n",
        "```\n",
        "[min(calificacion + 5, 100) if calificacion < 90 else calificacion for calificacion in calificaciones]\n",
        "````\n",
        "\n",
        "Utilizamos comprensión de listas para crear una nueva lista llamada calificaciones_mejoradas. La estructura general de esta **comprensión de listas** es:\n",
        "\n",
        "```\n",
        "[expression if condition else alternative for item in iterable]\n",
        "````\n",
        "\n",
        "- **expression:** `min(calificacion + 5, 100)` es la expresión que se evaluará si la condición es True.\n",
        "\n",
        "- **condition:** `calificacion < 90` es la condición que se evalúa para cada elemento.\n",
        "\n",
        "- **alternative:** `calificacion` es la alternativa que se usará si la condición es False.\n",
        "\n",
        "- **item:** La variable temporal que toma cada valor del iterable ⇒ `calificacion`\n",
        "\n",
        "- **iterable:** La colección de elementos que se iteran ⇒ `calificaciones`\n",
        "\n",
        "Desglose Paso a Paso:\n",
        "\n",
        "- Este bucle recorre cada elemento de la lista calificaciones:\n",
        "\n",
        "  `for calificacion in calificaciones`\n",
        "\n",
        "\n",
        "- Condición y Expresión:\n",
        "    - Se evalúa si la calificación es menor a 90:\n",
        "\n",
        "    `if calificacion < 90`\n",
        "\n",
        "    - Si la condición es verdadera (la calificación es menor a 90), se añade 5 puntos a la calificación. Se usa la función `min()` para asegurar que el resultado no supere 100:\n",
        "\n",
        "    `min(calificacion + 5, 100)`\n",
        "\n",
        "    - Si la condición es falsa (la calificación es 90 o más), la calificación se deja tal como está:\n",
        "\n",
        "    `else calificacion`\n",
        "\n",
        "\n",
        "- **Resultado Final:**\n",
        "La nueva lista calificaciones_mejoradas contendrá las calificaciones ajustadas con 5 puntos adicionales para aquellas que eran menores a 90, asegurando que ninguna calificación exceda 100.\n",
        "\n",
        "Aquí está el desglose de cómo se evalúa cada calificación:\n",
        "\n",
        "- Para 95: La condición es False, entonces la calificación sigue siendo 95.\n",
        "\n",
        "- Para 82: La condición es True, entonces min(82 + 5, 100) da 87.\n",
        "\n",
        "- Para 59: La condición es True, entonces min(59 + 5, 100) da 64.\n",
        "\n",
        "- Para 78: La condición es True, entonces min(78 + 5, 100) da 83.\n",
        "\n",
        "- Para 88: La condición es True, entonces min(88 + 5, 100) da 93.\n",
        "\n",
        "- Para 93: La condición es False, entonces la calificación sigue siendo 93."
      ],
      "metadata": {
        "id": "315joVNw7yFO"
      }
    },
    {
      "cell_type": "code",
      "source": [
        "# Lista de calificaciones originales\n",
        "calificaciones = [95, 82, 59, 78, 88, 93]\n",
        "\n",
        "# 1. Crear una nueva lista llamada 'aprobados' que contenga True o False dependiendo de si cada estudiante ha aprobado o no.\n",
        "aprobados = [calificacion >= 60 for calificacion in calificaciones]\n",
        "\n",
        "# 2. Calcular la calificación promedio de la clase.\n",
        "promedio = sum(calificaciones) / len(calificaciones)\n",
        "\n",
        "# 3. Crear una nueva lista llamada 'calificaciones_mejoradas' donde se añaden 5 puntos a calificaciones menores a 90.\n",
        "calificaciones_mejoradas = [min(calificacion + 5, 100) if calificacion < 90 else calificacion for calificacion in calificaciones]\n",
        "\n",
        "# 4. Encontrar la calificación más alta en 'calificaciones_mejoradas'.\n",
        "calificacion_maxima = max(calificaciones_mejoradas)\n",
        "\n",
        "# Imprimir los resultados\n",
        "print(f\"Lista de aprobados: {aprobados}\")\n",
        "print(f\"La calificación promedio de la clase es: {promedio}\")\n",
        "print(f\"Lista de calificaciones mejoradas: {calificaciones_mejoradas}\")\n",
        "print(f\"La calificación más alta es: {calificacion_maxima}\")"
      ],
      "metadata": {
        "colab": {
          "base_uri": "https://localhost:8080/"
        },
        "id": "JvGq_eIPEsJ5",
        "outputId": "35488ef4-cec6-455a-9c45-1a41c8a606b5"
      },
      "execution_count": null,
      "outputs": [
        {
          "output_type": "stream",
          "name": "stdout",
          "text": [
            "Lista de aprobados: [True, True, False, True, True, True]\n",
            "La calificación promedio de la clase es: 82.5\n",
            "Lista de calificaciones mejoradas: [95, 87, 64, 83, 93, 93]\n",
            "La calificación más alta es: 95\n"
          ]
        }
      ]
    },
    {
      "cell_type": "markdown",
      "source": [
        "### 😈 <font color='red'> DESAFÍO 3 <font color='black'> 😈"
      ],
      "metadata": {
        "id": "wIHQzsW8qRW8"
      }
    },
    {
      "cell_type": "markdown",
      "metadata": {
        "id": "fw3uRYXDkY-M"
      },
      "source": [
        "\n",
        "Imagina que estás creando un sistema sencillo para gestionar los libros en una biblioteca, por lo cual deberás hacer lo siguiente:\n",
        "\n",
        "\n",
        "- **Crear un Catálogo de Libros:** Define un diccionario llamado catalogo_libros que almacene algunos de los libros leídos en España, donde las claves son los títulos de los libros y los valores son los nombres de los autores. Ejemplo:\n",
        "\n",
        "  catalogo_libros =\n",
        "      {\"Don Quijote de la Mancha\": \"Miguel de Cervantes\",\n",
        "      \"Cien años de soledad\": \"Gabriel García Márquez\",\n",
        "      \"La sombra del viento\": \"Carlos Ruiz Zafón\",\n",
        "      \"El juego del ángel\": \"Carlos Ruiz Zafón\",\n",
        "      \"Marina\": \"Carlos Ruiz Zafón\"}\n",
        "    \n",
        "\n",
        "- **Búsqueda de Libro en el Catálogo:** Pide al usuario que introduzca el nombre de un libro a través de input(). Utiliza una estructura de control para comprobar si el libro introducido está disponible. Si se encuentra el libro, imprime \"El autor del libro [nombre del libro] es [nombre del autor].\". Si el libro no está en el catálogo, imprime \"Lo sentimos, el libro [nombre del libro] no está disponible.\"\n",
        "\n",
        "- **Libros por Autor:** obtén en una variable los nombres de los autores de nuestro diccionario, sin repeticiones.\n",
        "\n",
        "\n",
        "- **Recomendaciones:** Define una tupla llamada recomendaciones con los nombres de tres libros recomendados que no estén en el catálogo inicial. Usa un bucle while para imprimir cada libro de la tupla con un mensaje que diga \"Recomendamos leer: [nombre del libro]\". Incrementa un contador para salir del bucle.\n",
        "\n",
        "\n",
        "      {\"El Alquimista - Paulo Coelho\",\n",
        "      \"El tatuador de Auschwitz - Heather Morris\",\n",
        "      \"Crónica de una muerte anunciada - Gabriel García Márquez\"}"
      ]
    },
    {
      "cell_type": "code",
      "source": [
        "# Catálogo de libros\n",
        "catalogo_libros = {\n",
        "    \"Don Quijote de la Mancha\": \"Miguel de Cervantes\",\n",
        "    \"Cien años de soledad\": \"Gabriel García Márquez\",\n",
        "    \"La sombra del viento\": \"Carlos Ruiz Zafón\",\n",
        "    \"El juego del ángel\": \"Carlos Ruiz Zafón\",\n",
        "    \"Marina\": \"Carlos Ruiz Zafón\"\n",
        "}\n",
        "\n",
        "# 1. Búsqueda de libro en el catálogo\n",
        "libro_buscado = input(\"Introduce el nombre de un libro: \")\n",
        "if libro_buscado in catalogo_libros:\n",
        "    print(f\"El autor del libro '{libro_buscado}' es {catalogo_libros[libro_buscado]}.\")\n",
        "else:\n",
        "    print(f\"Lo sentimos, el libro '{libro_buscado}' no está disponible.\")\n",
        "\n",
        "# 2. Obtener los nombres de los autores sin repeticiones\n",
        "autores = set(catalogo_libros.values())\n",
        "print(f\"Autores en el catálogo: {autores}\")\n",
        "\n",
        "# 3. Recomendaciones de libros\n",
        "recomendaciones = (\"1984\", \"El Principito\", \"Crimen y Castigo\")\n",
        "contador = 0\n",
        "\n",
        "while contador < len(recomendaciones):\n",
        "    print(f\"Recomendamos leer: {recomendaciones[contador]}\")\n",
        "    contador += 1"
      ],
      "metadata": {
        "colab": {
          "base_uri": "https://localhost:8080/"
        },
        "id": "S-guHzFzFYM7",
        "outputId": "014dd0e5-6ad1-408e-f0f3-d17f721311bf"
      },
      "execution_count": null,
      "outputs": [
        {
          "output_type": "stream",
          "name": "stdout",
          "text": [
            "Introduce el nombre de un libro: Mimi\n",
            "Lo sentimos, el libro 'Mimi' no está disponible.\n",
            "Autores en el catálogo: {'Carlos Ruiz Zafón', 'Miguel de Cervantes', 'Gabriel García Márquez'}\n",
            "Recomendamos leer: 1984\n",
            "Recomendamos leer: El Principito\n",
            "Recomendamos leer: Crimen y Castigo\n"
          ]
        }
      ]
    },
    {
      "cell_type": "markdown",
      "source": [
        "##  Operadores"
      ],
      "metadata": {
        "id": "Ae4Nq1EOtoUr"
      }
    },
    {
      "cell_type": "markdown",
      "source": [
        "### 🎈 Ejercicio op aritmeticos 🎈"
      ],
      "metadata": {
        "id": "tb0O7ZCtGVav"
      }
    },
    {
      "cell_type": "markdown",
      "source": [
        "Calcula el área y el perímetro de un rectángulo de base 5 y altura 7."
      ],
      "metadata": {
        "id": "jRTY3HCXGYxG"
      }
    },
    {
      "cell_type": "markdown",
      "source": [
        "### 🎈 Ejercicio op lógicos 🎈"
      ],
      "metadata": {
        "id": "rkM1nMl0H0rJ"
      }
    },
    {
      "cell_type": "markdown",
      "source": [
        "- Solicita al usuario que introduzca un número entero.\n",
        "\n",
        "- Luego, evalúa si el número ingresado es par o mayor que 100.\n",
        "- Si el número es par o mayor que 100, el programa deberá imprimir True; de lo contrario, imprimirá False"
      ],
      "metadata": {
        "id": "3LWPKBUdIktg"
      }
    },
    {
      "cell_type": "markdown",
      "source": [
        "### 🎈 Ejercicio operadores 🎈"
      ],
      "metadata": {
        "id": "pgmWrSUM-5iD"
      }
    },
    {
      "cell_type": "markdown",
      "source": [
        "\n",
        "Imagina que trabajas en el departamento de servicio al cliente de una compañía que acaba de lanzar un nuevo producto y has recibido una serie de comentarios de los clientes. Quieres analizar rápidamente estos comentarios para ver cuántos mencionan un término específico relacionado con el producto, como podría ser el nombre del producto."
      ],
      "metadata": {
        "id": "BOKdZOjGryVh"
      }
    },
    {
      "cell_type": "markdown",
      "source": [
        "- Queremos analizar una lista de comentarios de clientes sobre un nuevo producto y contar cuántos de estos comentarios mencionan un término específico relacionado con el producto:\n",
        "\n",
        "  1. Define una variable llamada **nombre_producto** que contenga el nombre del producto que deseas buscar en los comentarios:\n",
        "\n",
        "  > EcoFriendlyBottle\n",
        "\n",
        "  2. Define una *lista* llamada **comentarios** que contenga varios comentarios de clientes sobre el producto.\n",
        "\n",
        "  > \"Realmente amo mi nueva EcoFriendlyBottle, ¡es perfecta para llevar al trabajo!\"\n",
        "\n",
        "  > \"No estoy seguro de si la EcoFriendlyBottle vale su precio.\"\n",
        "\n",
        "  > \"¿Alguien ha probado la EcoFriendlyBottle? Estoy pensando en comprar una.\"\n",
        "\n",
        "  > \"Preferiría algo más colorido que una EcoFriendlyBottle.\"\n",
        "\n",
        "  > \"¡Esta botella mantiene mi bebida fría por horas!\"\n",
        "\n",
        "  3. Utiliza un bucle **for** para iterar sobre cada comentario en la lista comentarios.\n",
        "\n",
        "  4. Dentro del bucle, verifica si el nombre_producto aparece dentro del comentario.\n",
        "\n",
        "  5. Si el nombre_producto se encuentra en el comentario, incrementa un contador que lleva el registro de las menciones encontradas.\n",
        "  \n",
        "  6. Imprime cada comentario que mencione el nombre_producto.\n",
        "  \n",
        "  7. Al final, imprime el total de menciones encontradas del nombre_producto."
      ],
      "metadata": {
        "id": "u9Cx4YQeawzW"
      }
    },
    {
      "cell_type": "markdown",
      "source": [
        "Si deseas contar las menciones de la palabra clave incluso si aparece varias veces en el mismo comentario, puedes utilizar el método count(), cuenta el número de veces que aparece una subcadena dentro de otra cadena"
      ],
      "metadata": {
        "id": "kDBsIxdhckb5"
      }
    },
    {
      "cell_type": "markdown",
      "source": [
        "### 😈 <font color='red'> DESAFÍO 4 <font color='black'> 😈"
      ],
      "metadata": {
        "id": "yT3Fz2Lq-_6q"
      }
    },
    {
      "cell_type": "markdown",
      "metadata": {
        "id": "bCIBhXClOJsb"
      },
      "source": [
        "Imagina que eres el organizador de un evento escolar que involucra juegos matemáticos. Uno de los juegos consiste en que los estudiantes encuentren números que cumplan con ciertas condiciones."
      ]
    },
    {
      "cell_type": "markdown",
      "source": [
        "- Se te proporciona una lista de números especiales para el juego, que son múltiplos de 6.\n",
        "\n",
        "> 0, 10, 20, 30, 40, 50, 60, 70, 80, 90, 100\n",
        "\n",
        "- Debes solicitar al usuario (un estudiante) que introduzca un número entre 1 y 100 para verificar si cumple con las condiciones del juego.\n",
        "\n",
        "- Si el número introducido por el estudiante cumple con alguna de las siguientes condiciones, debes mostrar un mensaje adecuado:\n",
        "\n",
        "  - El número es un múltiplo de 2 y 3 y está en la lista de números especiales del juego.\n",
        "  - El número es un múltiplo de 2 y 3, pero no está en la lista de números especiales del juego.\n",
        "  - El número está en la lista de números especiales del juego.\n",
        "\n",
        "- Si el número no cumple con ninguna de las condiciones anteriores, debes informar al estudiante que el número no cumple con las reglas del juego."
      ],
      "metadata": {
        "id": "fbWFhDbAdYVE"
      }
    },
    {
      "cell_type": "code",
      "source": [
        "# Lista de números especiales del juego (múltiplos de 6)\n",
        "numeros_especiales = [0, 10, 20, 30, 40, 50, 60, 70, 80, 90, 100]\n",
        "\n",
        "# Solicitar al estudiante que introduzca un número\n",
        "numero_estudiante = int(input(\"Introduce un número entre 1 y 100: \"))\n",
        "\n",
        "# Verificar condiciones\n",
        "if numero_estudiante % 2 == 0 and numero_estudiante % 3 == 0:\n",
        "    if numero_estudiante in numeros_especiales:\n",
        "        print(\"El número es múltiplo de 2 y 3 y está en la lista de números especiales del juego.\")\n",
        "    else:\n",
        "        print(\"El número es múltiplo de 2 y 3, pero no está en la lista de números especiales del juego.\")\n",
        "elif numero_estudiante in numeros_especiales:\n",
        "    print(\"El número está en la lista de números especiales del juego.\")\n",
        "else:\n",
        "    print(\"El número no cumple con las reglas del juego.\")"
      ],
      "metadata": {
        "colab": {
          "base_uri": "https://localhost:8080/"
        },
        "id": "7t-TYMxRGFLL",
        "outputId": "b0bbeaf6-0878-4c6f-ced8-3a128683d290"
      },
      "execution_count": null,
      "outputs": [
        {
          "output_type": "stream",
          "name": "stdout",
          "text": [
            "Introduce un número entre 1 y 100: 56\n",
            "El número no cumple con las reglas del juego.\n"
          ]
        }
      ]
    },
    {
      "cell_type": "markdown",
      "source": [
        "### 🎈 Ejercicio funciones 🎈\n",
        "\n",
        "Imagina que eres un analista de datos en una empresa que necesita evaluar regularmente las ventas diarias. Quieres comparar el número de ventas de cada día con un objetivo de ventas aleatorio para ver si las ventas fueron mayores, menores o iguales al objetivo."
      ],
      "metadata": {
        "id": "NTirXIbdaF1U"
      }
    },
    {
      "cell_type": "markdown",
      "source": [
        "1. Definir una función llamada **evaluar_ventas** que acepte el número de ventas y el objetivo como argumento.\n",
        "2. Generar un **objetivo** de ventas y solicitar al usuario el **numero de ventas** realizadas.\n",
        "3. Comparar el número de ventas con el objetivo de ventas y asignar un mensaje apropiado al resultado de la comparación.\n",
        "4. Imprimir el resultado de la comparación."
      ],
      "metadata": {
        "id": "01AFo70kiQWu"
      }
    },
    {
      "cell_type": "markdown",
      "source": [
        "### 🎈 Ejercicio 1 🎈\n",
        "\n",
        "Imagina que eres un analista de datos y necesitas una función flexible para analizar diferentes sets de datos de ventas. Quieres poder ingresar un número variable de datos de ventas, especificar un tipo de análisis (como media, mediana, etc.), y proporcionar opciones adicionales como el año o la región de las ventas."
      ],
      "metadata": {
        "id": "zHhtpLVqoT97"
      }
    },
    {
      "cell_type": "markdown",
      "source": [
        "El ejercicio consiste en:\n",
        "\n",
        "- Definir una función llamada analizar_ventas que acepta múltiples argumentos posicionales (* ventas ), el mes que vamos analizar, el tipo de analisis que se quiere realizar y  cualquier número de argumentos de palabras clave adicionales (**opciones).\n",
        "\n",
        "- La función realiza un análisis estadístico de las ventas proporcionadas según el tipo de análisis especificado (media, mediana o suma), e imprime el resultado junto con el mes del análisis, los datos de ventas y cualquier opción adicional proporcionada.\n",
        "\n",
        "Ejemplo de llamada:\n",
        "\n",
        "\n",
        "\n",
        "```\n",
        "analizar_ventas(\"Enero\", 200, 300, 400, tipo_analisis=\"media\", año=2024, región=\"Norte\")\n",
        "\n",
        "analizar_ventas(\"Mayo\", 200, 300, 400, tipo_analisis=\"suma\")\n",
        "\n",
        "```\n",
        "\n",
        "Enero → mes\n",
        "\n",
        "200, 3000, 400 → ventas\n",
        "\n",
        "media → tipo de analisis\n",
        "\n",
        "2024, Norte → valores de las claves adicionales"
      ],
      "metadata": {
        "id": "44Kh8Y9DoDO8"
      }
    },
    {
      "cell_type": "markdown",
      "source": [
        "### 🎈 Ejercicio 2 🎈"
      ],
      "metadata": {
        "id": "c2KzBWG3notB"
      }
    },
    {
      "cell_type": "markdown",
      "source": [
        "\n",
        "Supongamos que estás desarrollando una función para un sistema de gestión de usuarios en una aplicación web. Diferentes usuarios pueden proporcionar diferentes cantidades de información personal al registrarse. Quieres una función que pueda manejar esta variabilidad de manera eficiente."
      ],
      "metadata": {
        "id": "KR9UpbdEpGJL"
      }
    },
    {
      "cell_type": "markdown",
      "source": [
        "- Definir una función llamada configurar_usuario\n",
        "- Que acepta argumentos de palabras clave arbitrarios (**kwargs) para configurar un diccionario de usuario.\n",
        "- Este diccionario tiene claves predefinidas (\"nombre\", \"edad\", \"email\") con valores predeterminados (\"Anónimo\", \"Desconocida\", \"No especificado\") para que en el caso de que no estén definidos, se asignen como default. Si son asignados, se sobreescribirán.\n",
        "\n",
        "\n",
        "\n",
        "```\n",
        "usuario1 = configurar_usuario(nombre=\"Carlos\", edad=30, email=\"carlos@ejemplo.com\")\n",
        "usuario2 = configurar_usuario(nombre=\"Melisa\", email=\"melisa@ejemplo.com\")\n",
        "usuario3 = configurar_usuario()\n",
        "```\n",
        "\n",
        "Salida esperada:\n",
        "\n",
        "```\n",
        "Usuario 1: {'nombre': 'Carlos', 'edad': 30, 'email': 'carlos@ejemplo.com'}\n",
        "Usuario 2: {'nombre': 'Melisa', 'edad': 'Desconocida', 'email': 'melisa@ejemplo.com'}\n",
        "Usuario 3: {'nombre': 'Anónimo', 'edad': 'Desconocida', 'email': 'No especificado'}\n",
        "\n",
        "```"
      ],
      "metadata": {
        "id": "seiN6f3ApoXD"
      }
    },
    {
      "cell_type": "markdown",
      "source": [
        "## Funciones lambda"
      ],
      "metadata": {
        "id": "baT9HyEXtinN"
      }
    },
    {
      "cell_type": "markdown",
      "source": [
        "### 🎈 Ejercicio lambda 1🎈"
      ],
      "metadata": {
        "id": "ysmwc2kIrKEa"
      }
    },
    {
      "cell_type": "markdown",
      "source": [
        "Supongamos que tienes una lista de precios de productos y deseas aplicar un descuento del 10% a todos ellos.\n",
        "\n",
        "Podrías usar una función lambda para hacer esto de manera eficiente\n",
        "\n",
        "`precios: 100, 200, 300, 400, 500`"
      ],
      "metadata": {
        "id": "CS6r_P2sqg5-"
      }
    },
    {
      "cell_type": "markdown",
      "source": [
        "### 🎈 Ejercicio lambda 2🎈"
      ],
      "metadata": {
        "id": "UHXnM-8osZnv"
      }
    },
    {
      "cell_type": "markdown",
      "source": [
        "Imagina que estás analizando una lista de edades de un grupo de usuarios y quieres filtrar a todos los que son mayores de 18 años:\n",
        "\n",
        "```\n",
        "edades: 14, 25, 30, 17, 21, 16, 28\n",
        "```"
      ],
      "metadata": {
        "id": "zlkY0ypfq6Pm"
      }
    },
    {
      "cell_type": "markdown",
      "source": [
        "### 🎈 Ejercicio lambda 3🎈"
      ],
      "metadata": {
        "id": "BC_BBXzLskBB"
      }
    },
    {
      "cell_type": "markdown",
      "source": [
        "Supongamos que tienes una **lista de tuplas** que representan los nombres de los empleados y sus años de servicio.\n",
        "\n",
        "Quieres ordenar esta lista por los años de servicio de forma descendente\n",
        "\n",
        "\n",
        "\n",
        "```\n",
        "Ana-10, Luis-2, Carlos-5, Marta-8\n",
        "```\n",
        "\n"
      ],
      "metadata": {
        "id": "EZx5w2harB62"
      }
    },
    {
      "cell_type": "markdown",
      "source": [
        "## Extras"
      ],
      "metadata": {
        "id": "YDtko6rJt8wJ"
      }
    },
    {
      "cell_type": "markdown",
      "source": [
        "### 😈⚡ Extra 1 😈⚡"
      ],
      "metadata": {
        "id": "XKc1uWsEGr_Q"
      }
    },
    {
      "cell_type": "markdown",
      "source": [
        "Supongamos que estás trabajando con una lista de nombres de usuarios que se han recopilado a través de un formulario en línea. A menudo, los usuarios pueden ingresar accidentalmente espacios adicionales antes o después de sus nombres, lo que podría causar problemas al realizar comparaciones o al almacenar estos datos en una base de datos."
      ],
      "metadata": {
        "id": "Nsl8l58BTazE"
      }
    },
    {
      "cell_type": "markdown",
      "source": [
        "- Se te proporciona una lista llamada **lista_usuarios** que incluye nombres de usuarios con y sin espacios extra al principio o al final.\n",
        "\n",
        "> \"Ana\", \"Carlos Andres  \", \" Diana\", \" Jorge    \"\n",
        "\n",
        "- Tu tarea es limpiar los espacios al principio y al final de cada nombre de usuario en la lista utilizando la comprensión de listas y el método .strip().\n",
        "\n",
        "- Después de la limpieza, debes imprimir cada nombre de usuario para mostrar la eliminación de los espacios.\n",
        "\n",
        "- Además, proporciona un ejemplo adicional que compare la longitud de un nombre de usuario antes y después de la limpieza para demostrar la eliminación de espacios.\n",
        "\n",
        "\n",
        "\n",
        "\n"
      ],
      "metadata": {
        "id": "WRHEUIu-fNAC"
      }
    },
    {
      "cell_type": "markdown",
      "source": [
        "### 😈⚡ Extra 2 😈⚡"
      ],
      "metadata": {
        "id": "L2Jy1dufqVlt"
      }
    },
    {
      "cell_type": "markdown",
      "metadata": {
        "id": "ITk1cjQSghDz"
      },
      "source": [
        "Imagínate organizando una noche de cine con amigos y familiares, donde todos tienen la oportunidad de votar por su película favorita de una lista preseleccionada.\n",
        "\n",
        "El objetivo de este desafío es construir un sistema simple pero completo en Python que no solo permita registrar esos votos, sino también analizarlos e informar sobre la película más popular\n",
        "\n",
        "- **Listado de Películas:** Comienza mostrando las películas disponibles para votación, enumeradas para facilitar la elección del usuario (usar **enumerate**)\n",
        "\n",
        "```enumerate(iterable, start=0)```\n",
        "\n",
        "- **Registrar Votos:** Se invita al usuario a votar introduciendo el índice de su película favorita. Puede votar tantas veces como desee hasta que escriba 'salir'. Esta parte del código demuestra cómo recoger y procesar entradas del usuario en un bucle, actualizando el diccionario de votos según las elecciones.\n",
        "\n",
        "- **Análisis y Resultado Final:** Una vez que el usuario termina de votar, el programa utiliza reduce para determinar cuál película recibió más votos, mostrando el resultado. Esto demuestra la aplicación práctica de reduce para sintetizar una colección de datos en un solo resultado.\n",
        "\n",
        "\n",
        "\n",
        "\n",
        "```\n",
        "\"Titanic\",\n",
        "\"El Padrino\",\n",
        "\"Forrest Gump\",\n",
        "\"La lista de Schindler\",\n",
        "\"El Señor de los Anillos: El retorno del Rey\"\n",
        "```\n",
        "\n"
      ]
    },
    {
      "cell_type": "markdown",
      "source": [
        "## Ejercicios"
      ],
      "metadata": {
        "id": "J2lN9eGExTI2"
      }
    },
    {
      "cell_type": "markdown",
      "source": [
        "### Ejercicio 1"
      ],
      "metadata": {
        "id": "wjQgyukyxVAk"
      }
    },
    {
      "cell_type": "markdown",
      "source": [
        "Normalizar la lista de 5 personas:\n",
        "1.   Corregir mayúsculas y minúsculas.\n",
        "2.   El resultado deberá almacenarse como una variable tipo lista llamada lista_personas_normalizada donde se incluyan todas las personas de la variable lista_personas y personas_faltantes.\n",
        "3. Corroborar en esta nueva variable que el tipo de dato sea el pedido.\n",
        "4. Deberá estar ordenado alfabeticamente el orden de esta lista nueva.\n",
        "5. Mostrar en un print las personas faltantes, indicando en el texto cuántas personas son y cómo se llaman (f-strings 😏).\n",
        "6. Agregar tu nombre y apellido en primera posición de la variable lista_personas_normalizada y eliminar el último posicionado en ella.\n",
        "7. Partiendo de la posición actual de tu nombre, quedarse sólo con las personas cuya posición sera número par."
      ],
      "metadata": {
        "id": "S64h437qxe8d"
      }
    },
    {
      "cell_type": "markdown",
      "source": [
        "### Ejercicio 2"
      ],
      "metadata": {
        "id": "NBjxlsy80wsb"
      }
    },
    {
      "cell_type": "markdown",
      "source": [
        "Crear un contador de vocales (del lenguaje español):\n",
        "1. Utilizar alguna estructura de control\n",
        "2. Emplear manipulación de datos de recolección.\n",
        "3. Generar un mensaje que determine cuál es el total de vocales existentes en la cadena de caracteres, y cuál tiene menos ocurrencias.\n",
        "4. Generar un mensaje que responda: ¿Hay más ocurrencias de \"i\" que de \"u\"?\n",
        "5. Finalmente, recopilar el contador de vocales dentro de una función."
      ],
      "metadata": {
        "id": "I9Lf51iC0wIO"
      }
    },
    {
      "cell_type": "code",
      "source": [
        "frase = \"La verdad adelgaza y no quiebra, y siempre nada sobre la mentira como el aceite sobre el agua.\"\n",
        "vocales = ['a', 'e', 'i', 'o', 'u']"
      ],
      "metadata": {
        "id": "lPl9OheSAYHI"
      },
      "execution_count": null,
      "outputs": []
    },
    {
      "cell_type": "markdown",
      "source": [
        "### Ejercicio 3"
      ],
      "metadata": {
        "id": "xZWM5sPN09q1"
      }
    },
    {
      "cell_type": "markdown",
      "source": [
        "El objetivo es modificar la función contador_vocales para que también cuente vocales acentuadas como 'á', 'é', 'í', 'ó', 'ú', además de las vocales sin acento."
      ],
      "metadata": {
        "id": "-RVBaL4g0_xQ"
      }
    },
    {
      "cell_type": "code",
      "source": [
        "texto_ejemplo = \"Aquí hay un texto más complejo: Cigüeña, pingüino, y murciélago son palabras con vocales acentuadas.\""
      ],
      "metadata": {
        "id": "GutBBEnM1DOo"
      },
      "execution_count": null,
      "outputs": []
    },
    {
      "cell_type": "markdown",
      "source": [
        "### Ejemplo"
      ],
      "metadata": {
        "id": "j862Zj7U6XJJ"
      }
    },
    {
      "cell_type": "code",
      "source": [
        "# Lista ejemplo\n",
        "lista_1 = [1, 2, 2]\n",
        "\n",
        "# Consigna ---> Buscamos el indice para todas las apariciones del valor 2\n",
        "\n",
        "# Alternativa 1:\n",
        "# Utilizando una lista de comprensión\n",
        "indices = [indice for indice, valor in enumerate(lista_1) if valor == 2]\n",
        "\n",
        "# Alternativa 2:\n",
        "# Utilizando una lista vacia e ir agregando los indices con bucle for\n",
        "indices_2 = []\n",
        "for indice, valor in enumerate(lista_1):\n",
        "  if valor == 2:\n",
        "    indices_2.append(indice)\n",
        "\n",
        "print(\"Los índices de las ocurrencias de 2 son:\", indices)\n",
        "print(\"Los índices de las ocurrencias de 2 son:\", indices_2)"
      ],
      "metadata": {
        "colab": {
          "base_uri": "https://localhost:8080/"
        },
        "id": "FNY_LM7w5-aR",
        "outputId": "66200cb9-8888-4240-819a-a109778fab27"
      },
      "execution_count": null,
      "outputs": [
        {
          "output_type": "stream",
          "name": "stdout",
          "text": [
            "Los índices de las ocurrencias de 2 son: [1, 2]\n",
            "Los índices de las ocurrencias de 2 son: [1, 2]\n"
          ]
        }
      ]
    }
  ]
}